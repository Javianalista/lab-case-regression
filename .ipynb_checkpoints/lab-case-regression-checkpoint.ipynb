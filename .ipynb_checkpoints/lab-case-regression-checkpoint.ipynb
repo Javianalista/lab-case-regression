{
 "cells": [
  {
   "cell_type": "markdown",
   "id": "bc4e4aac-55ca-4090-9fb0-5c5268622318",
   "metadata": {},
   "source": [
    "# Lab Random Forest"
   ]
  },
  {
   "cell_type": "markdown",
   "id": "c8e4f67b-121a-4d2d-a547-1559fc605c64",
   "metadata": {},
   "source": [
    "## Importing libraries"
   ]
  },
  {
   "cell_type": "code",
   "execution_count": 1,
   "id": "fe22c6a9-8531-45eb-9737-926c6b9e765b",
   "metadata": {},
   "outputs": [],
   "source": [
    "import pandas as pd\n",
    "import numpy as np\n",
    "from sklearn.preprocessing import OneHotEncoder\n",
    "from sklearn.model_selection import train_test_split\n",
    "from sklearn.ensemble import RandomForestClassifier\n",
    "from sklearn.preprocessing import StandardScaler\n",
    "from sklearn.model_selection import cross_val_score\n",
    "from sklearn.utils import resample"
   ]
  },
  {
   "cell_type": "markdown",
   "id": "864980c7-4133-4627-a770-398e2e719e32",
   "metadata": {},
   "source": [
    "## Importing data and cleaning"
   ]
  },
  {
   "cell_type": "code",
   "execution_count": 2,
   "id": "08ab2519-2302-412b-9403-88dee6fcf760",
   "metadata": {},
   "outputs": [
    {
     "data": {
      "text/plain": [
       "0    90569\n",
       "1     4843\n",
       "Name: TARGET_B, dtype: int64"
      ]
     },
     "execution_count": 2,
     "metadata": {},
     "output_type": "execute_result"
    }
   ],
   "source": [
    "numerical = pd.read_csv('./files_for_lab/numerical.csv')\n",
    "categorical = pd.read_csv('./files_for_lab/categorical.csv')\n",
    "targets = pd.read_csv('./files_for_lab/target.csv')\n",
    "data = pd.concat([numerical, categorical, targets], axis = 1)\n",
    "data['TARGET_B'].value_counts()"
   ]
  },
  {
   "cell_type": "code",
   "execution_count": 3,
   "id": "32c7998b-a5a4-4d33-9c3f-44945b550c16",
   "metadata": {},
   "outputs": [],
   "source": [
    "category_0 = data[data['TARGET_B']==0]\n",
    "category_1 = data[data['TARGET_B']== 1 ]"
   ]
  },
  {
   "cell_type": "code",
   "execution_count": 4,
   "id": "4624a568-dd68-4e64-9536-48ea8cc9cfb0",
   "metadata": {},
   "outputs": [],
   "source": [
    "category_1_oversampled = resample(category_1, \n",
    "                                  replace=True, \n",
    "                                  n_samples = len(category_0))"
   ]
  },
  {
   "cell_type": "code",
   "execution_count": 5,
   "id": "d52df094-cecb-4a5a-b15e-a91ded290e28",
   "metadata": {},
   "outputs": [
    {
     "name": "stdout",
     "output_type": "stream",
     "text": [
      "(181138, 339)\n"
     ]
    }
   ],
   "source": [
    "data = pd.concat([category_0, category_1_oversampled], axis = 0)\n",
    "data = data.sample(frac =1) #randomize the rows\n",
    "data = data.reset_index(drop=True)\n",
    "print(data.shape)"
   ]
  },
  {
   "cell_type": "code",
   "execution_count": 6,
   "id": "5d5b5044-4b97-4689-8784-23cfc1129c68",
   "metadata": {},
   "outputs": [
    {
     "name": "stderr",
     "output_type": "stream",
     "text": [
      "<ipython-input-6-c5dfb46f1b5d>:5: DeprecationWarning: `np.object` is a deprecated alias for the builtin `object`. To silence this warning, use `object` by itself. Doing this will not modify any behavior and is safe. \n",
      "Deprecated in NumPy 1.20; for more details and guidance: https://numpy.org/devdocs/release/1.20.0-notes.html#deprecations\n",
      "  categoricalX = X.select_dtypes(np.object)\n"
     ]
    }
   ],
   "source": [
    "y = data['TARGET_B']\n",
    "X = data.drop(['TARGET_B'], axis = 1)\n",
    "\n",
    "numericalX = X.select_dtypes(np.number)\n",
    "categoricalX = X.select_dtypes(np.object)\n",
    "\n",
    "# we onehot encode the categoricals so we can use the same dataset to perform a regression later (in the lab).\n",
    "# it is not needed for a DecisionTree or RandomForest model\n",
    "encoder = OneHotEncoder(drop='first').fit(categoricalX)\n",
    "encoded_categorical = encoder.transform(categoricalX).toarray()\n",
    "encoded_categorical = pd.DataFrame(encoded_categorical)\n"
   ]
  },
  {
   "cell_type": "code",
   "execution_count": 7,
   "id": "6fe89037-e537-44af-964d-76a9f6f10d2e",
   "metadata": {},
   "outputs": [],
   "source": [
    "X = pd.concat([numericalX, encoded_categorical], axis = 1)\n",
    "\n",
    "X_train, X_test, y_train, y_test = train_test_split(X, y, test_size=0.2, random_state=0)\n"
   ]
  },
  {
   "cell_type": "code",
   "execution_count": 8,
   "id": "e864c315-e02d-4d35-8c54-47469a0e554a",
   "metadata": {},
   "outputs": [],
   "source": [
    "X_train = pd.DataFrame(X_train)\n",
    "X_test = pd.DataFrame(X_test)\n",
    "\n",
    "y_train_regression = X_train['TARGET_D']\n",
    "y_test_regression = X_test['TARGET_D']\n",
    "\n",
    "# Now we can remove the column target d from the set of features\n",
    "X_train = X_train.drop(['TARGET_D'], axis = 1)\n",
    "X_test = X_test.drop(['TARGET_D'], axis = 1)"
   ]
  },
  {
   "cell_type": "markdown",
   "id": "91947a74-32b5-4978-b79e-86ea76f8ae9d",
   "metadata": {},
   "source": [
    "## Creating the model"
   ]
  },
  {
   "cell_type": "code",
   "execution_count": 12,
   "id": "7bdb0f2c-da7a-4927-bdb4-aa25de728996",
   "metadata": {},
   "outputs": [
    {
     "name": "stdout",
     "output_type": "stream",
     "text": [
      "0.6166310123524946\n",
      "0.6125924699127746\n"
     ]
    }
   ],
   "source": [
    "clf = RandomForestClassifier(max_depth=5,\n",
    "                             min_samples_split=20,\n",
    "                             min_samples_leaf =20)\n",
    "clf.fit(X_train, y_train)\n",
    "print(clf.score(X_train, y_train))\n",
    "print(clf.score(X_test, y_test))"
   ]
  },
  {
   "cell_type": "code",
   "execution_count": 13,
   "id": "9a5c705c-a27b-4936-a0e0-f1e68447ea8c",
   "metadata": {},
   "outputs": [
    {
     "name": "stdout",
     "output_type": "stream",
     "text": [
      "0.6118142295217721\n"
     ]
    }
   ],
   "source": [
    "clf = RandomForestClassifier(max_depth=5,\n",
    "                             min_samples_split=20,\n",
    "                             min_samples_leaf =20)\n",
    "cross_val_scores = cross_val_score(clf, X_train, y_train, cv=10)\n",
    "print(np.mean(cross_val_scores))"
   ]
  },
  {
   "cell_type": "markdown",
   "id": "5ab0d09a-2a9b-4bb5-b14c-e7bfe2bd493d",
   "metadata": {},
   "source": [
    "### False positive vs False negative"
   ]
  },
  {
   "cell_type": "code",
   "execution_count": null,
   "id": "cf43e6b3-70d6-4dad-81c4-c9c0e3c76ce8",
   "metadata": {},
   "outputs": [],
   "source": [
    "## In my opinion a false positive is worse because i prefer having the exact number of real positives, because \n",
    "## knowing that i can make an idea between benefits and expenses, and if i have false negatives better, but if i haven't at least i have the real data."
   ]
  },
  {
   "cell_type": "markdown",
   "id": "9bb12150-0a23-455e-9f60-1c99b65b86c7",
   "metadata": {},
   "source": [
    "## Trying to improve the model deleting some numerical columns"
   ]
  },
  {
   "cell_type": "code",
   "execution_count": 21,
   "id": "5a9f0c6c-0f17-4ec2-9951-3aa05681bc24",
   "metadata": {},
   "outputs": [],
   "source": [
    "from sklearn.preprocessing import MinMaxScaler\n",
    "scaler = MinMaxScaler()\n",
    "numerical_scaled = scaler.fit_transform(numericalX)"
   ]
  },
  {
   "cell_type": "code",
   "execution_count": 22,
   "id": "6b157801-a399-49c4-aba4-63e91c0f2bc8",
   "metadata": {},
   "outputs": [],
   "source": [
    "from sklearn.feature_selection import VarianceThreshold \n",
    "var_threshold = 0.02\n",
    "sel = VarianceThreshold(threshold=(var_threshold))"
   ]
  },
  {
   "cell_type": "code",
   "execution_count": 23,
   "id": "497bd748-dde2-48a9-8dff-b8cbdd85a84a",
   "metadata": {},
   "outputs": [
    {
     "data": {
      "text/plain": [
       "(181138, 90)"
      ]
     },
     "execution_count": 23,
     "metadata": {},
     "output_type": "execute_result"
    }
   ],
   "source": [
    "sel = sel.fit(numerical_scaled)\n",
    "temp = sel.transform(numerical_scaled)\n",
    "temp = pd.DataFrame(temp)\n",
    "temp.shape"
   ]
  },
  {
   "cell_type": "code",
   "execution_count": 28,
   "id": "8592228d-b1c4-40ee-9593-c53975a6e01e",
   "metadata": {},
   "outputs": [],
   "source": [
    "X_impr = pd.concat([temp, encoded_categorical,data['TARGET_D']], axis = 1)"
   ]
  },
  {
   "cell_type": "code",
   "execution_count": 29,
   "id": "47b688ad-c670-44c7-a5dc-f834185fa594",
   "metadata": {},
   "outputs": [],
   "source": [
    "X_train_impr, X_test_impr, y_train_impr, y_test_impr = train_test_split(X_impr, y, test_size=0.2, random_state=0)"
   ]
  },
  {
   "cell_type": "code",
   "execution_count": 30,
   "id": "c7cde1f5-7dbf-4764-857d-e3ce0d48b790",
   "metadata": {},
   "outputs": [],
   "source": [
    "X_train_impr = pd.DataFrame(X_train_impr)\n",
    "X_test_impr = pd.DataFrame(X_test_impr)\n",
    "\n",
    "y_train_regression_impr = X_train_impr['TARGET_D']\n",
    "y_test_regression_impr = X_test_impr['TARGET_D']\n",
    "\n",
    "# Now we can remove the column target d from the set of features\n",
    "X_train_impr = X_train_impr.drop(['TARGET_D'], axis = 1)\n",
    "X_test_impr = X_test_impr.drop(['TARGET_D'], axis = 1)"
   ]
  },
  {
   "cell_type": "code",
   "execution_count": 35,
   "id": "cefe2655-b06a-411b-b34a-a58bf235dc3c",
   "metadata": {},
   "outputs": [
    {
     "name": "stdout",
     "output_type": "stream",
     "text": [
      "0.6129942723069491\n",
      "0.6082864083029701\n"
     ]
    }
   ],
   "source": [
    "clf_impr = RandomForestClassifier(max_depth=5,\n",
    "                             min_samples_split=20,\n",
    "                             min_samples_leaf =20)\n",
    "clf_impr.fit(X_train_impr, y_train_impr)\n",
    "print(clf_impr.score(X_train_impr, y_train_impr))\n",
    "print(clf_impr.score(X_test_impr, y_test_impr))"
   ]
  },
  {
   "cell_type": "markdown",
   "id": "63d6f4bb-8595-4d27-8d0f-88021f7bce56",
   "metadata": {},
   "source": [
    "## Trying to predict the amount of money"
   ]
  },
  {
   "cell_type": "code",
   "execution_count": 36,
   "id": "0aaaa13f-d6ee-4c40-bc52-147e9dd40f2d",
   "metadata": {},
   "outputs": [],
   "source": [
    "list_1 = []"
   ]
  },
  {
   "cell_type": "code",
   "execution_count": 38,
   "id": "84fcb288-6aae-41f7-96cc-893617063d2b",
   "metadata": {},
   "outputs": [],
   "source": [
    "reset = y_test_impr.reset_index()"
   ]
  },
  {
   "cell_type": "code",
   "execution_count": 39,
   "id": "8100b762-8734-4d40-9c63-88eaa0cfc5ed",
   "metadata": {},
   "outputs": [
    {
     "data": {
      "text/html": [
       "<div>\n",
       "<style scoped>\n",
       "    .dataframe tbody tr th:only-of-type {\n",
       "        vertical-align: middle;\n",
       "    }\n",
       "\n",
       "    .dataframe tbody tr th {\n",
       "        vertical-align: top;\n",
       "    }\n",
       "\n",
       "    .dataframe thead th {\n",
       "        text-align: right;\n",
       "    }\n",
       "</style>\n",
       "<table border=\"1\" class=\"dataframe\">\n",
       "  <thead>\n",
       "    <tr style=\"text-align: right;\">\n",
       "      <th></th>\n",
       "      <th>index</th>\n",
       "      <th>TARGET_B</th>\n",
       "    </tr>\n",
       "  </thead>\n",
       "  <tbody>\n",
       "    <tr>\n",
       "      <th>0</th>\n",
       "      <td>63554</td>\n",
       "      <td>1</td>\n",
       "    </tr>\n",
       "    <tr>\n",
       "      <th>1</th>\n",
       "      <td>93091</td>\n",
       "      <td>1</td>\n",
       "    </tr>\n",
       "    <tr>\n",
       "      <th>2</th>\n",
       "      <td>85771</td>\n",
       "      <td>1</td>\n",
       "    </tr>\n",
       "    <tr>\n",
       "      <th>3</th>\n",
       "      <td>45065</td>\n",
       "      <td>0</td>\n",
       "    </tr>\n",
       "    <tr>\n",
       "      <th>4</th>\n",
       "      <td>77682</td>\n",
       "      <td>1</td>\n",
       "    </tr>\n",
       "    <tr>\n",
       "      <th>...</th>\n",
       "      <td>...</td>\n",
       "      <td>...</td>\n",
       "    </tr>\n",
       "    <tr>\n",
       "      <th>36223</th>\n",
       "      <td>52227</td>\n",
       "      <td>0</td>\n",
       "    </tr>\n",
       "    <tr>\n",
       "      <th>36224</th>\n",
       "      <td>29914</td>\n",
       "      <td>1</td>\n",
       "    </tr>\n",
       "    <tr>\n",
       "      <th>36225</th>\n",
       "      <td>145073</td>\n",
       "      <td>0</td>\n",
       "    </tr>\n",
       "    <tr>\n",
       "      <th>36226</th>\n",
       "      <td>161935</td>\n",
       "      <td>1</td>\n",
       "    </tr>\n",
       "    <tr>\n",
       "      <th>36227</th>\n",
       "      <td>32868</td>\n",
       "      <td>1</td>\n",
       "    </tr>\n",
       "  </tbody>\n",
       "</table>\n",
       "<p>36228 rows × 2 columns</p>\n",
       "</div>"
      ],
      "text/plain": [
       "        index  TARGET_B\n",
       "0       63554         1\n",
       "1       93091         1\n",
       "2       85771         1\n",
       "3       45065         0\n",
       "4       77682         1\n",
       "...       ...       ...\n",
       "36223   52227         0\n",
       "36224   29914         1\n",
       "36225  145073         0\n",
       "36226  161935         1\n",
       "36227   32868         1\n",
       "\n",
       "[36228 rows x 2 columns]"
      ]
     },
     "execution_count": 39,
     "metadata": {},
     "output_type": "execute_result"
    }
   ],
   "source": [
    "reset"
   ]
  },
  {
   "cell_type": "code",
   "execution_count": 40,
   "id": "e474cf95-2717-4df2-92cc-aca76cad5cb2",
   "metadata": {},
   "outputs": [],
   "source": [
    "for i in range(len(reset['index'])):\n",
    "    if reset['TARGET_B'][i] == 1:\n",
    "        list_1.append(reset['index'][i])"
   ]
  },
  {
   "cell_type": "code",
   "execution_count": 43,
   "id": "9a322068-4344-40da-814e-783adce2cf6d",
   "metadata": {},
   "outputs": [
    {
     "data": {
      "text/plain": [
       "18057"
      ]
     },
     "execution_count": 43,
     "metadata": {},
     "output_type": "execute_result"
    }
   ],
   "source": [
    "len(list_1)"
   ]
  },
  {
   "cell_type": "code",
   "execution_count": 42,
   "id": "f4821cc1-a34f-40aa-bbbf-805f6c966ba9",
   "metadata": {},
   "outputs": [
    {
     "data": {
      "text/html": [
       "<div>\n",
       "<style scoped>\n",
       "    .dataframe tbody tr th:only-of-type {\n",
       "        vertical-align: middle;\n",
       "    }\n",
       "\n",
       "    .dataframe tbody tr th {\n",
       "        vertical-align: top;\n",
       "    }\n",
       "\n",
       "    .dataframe thead th {\n",
       "        text-align: right;\n",
       "    }\n",
       "</style>\n",
       "<table border=\"1\" class=\"dataframe\">\n",
       "  <thead>\n",
       "    <tr style=\"text-align: right;\">\n",
       "      <th></th>\n",
       "      <th>0</th>\n",
       "      <th>1</th>\n",
       "      <th>2</th>\n",
       "      <th>3</th>\n",
       "      <th>4</th>\n",
       "      <th>5</th>\n",
       "      <th>6</th>\n",
       "      <th>7</th>\n",
       "      <th>8</th>\n",
       "      <th>9</th>\n",
       "      <th>...</th>\n",
       "      <th>15</th>\n",
       "      <th>16</th>\n",
       "      <th>17</th>\n",
       "      <th>18</th>\n",
       "      <th>19</th>\n",
       "      <th>20</th>\n",
       "      <th>21</th>\n",
       "      <th>22</th>\n",
       "      <th>23</th>\n",
       "      <th>TARGET_D</th>\n",
       "    </tr>\n",
       "  </thead>\n",
       "  <tbody>\n",
       "    <tr>\n",
       "      <th>63554</th>\n",
       "      <td>0.463918</td>\n",
       "      <td>0.500000</td>\n",
       "      <td>0.666667</td>\n",
       "      <td>0.121212</td>\n",
       "      <td>0.454545</td>\n",
       "      <td>1.000000</td>\n",
       "      <td>0.000000</td>\n",
       "      <td>0.000000</td>\n",
       "      <td>1.000000</td>\n",
       "      <td>0.898990</td>\n",
       "      <td>...</td>\n",
       "      <td>1.0</td>\n",
       "      <td>0.0</td>\n",
       "      <td>0.0</td>\n",
       "      <td>1.0</td>\n",
       "      <td>0.0</td>\n",
       "      <td>0.0</td>\n",
       "      <td>0.0</td>\n",
       "      <td>1.0</td>\n",
       "      <td>0.0</td>\n",
       "      <td>25.0</td>\n",
       "    </tr>\n",
       "    <tr>\n",
       "      <th>93091</th>\n",
       "      <td>0.628866</td>\n",
       "      <td>0.500000</td>\n",
       "      <td>0.888889</td>\n",
       "      <td>0.313131</td>\n",
       "      <td>0.000000</td>\n",
       "      <td>0.666667</td>\n",
       "      <td>1.000000</td>\n",
       "      <td>0.000000</td>\n",
       "      <td>0.000000</td>\n",
       "      <td>0.858586</td>\n",
       "      <td>...</td>\n",
       "      <td>0.0</td>\n",
       "      <td>0.0</td>\n",
       "      <td>1.0</td>\n",
       "      <td>0.0</td>\n",
       "      <td>0.0</td>\n",
       "      <td>0.0</td>\n",
       "      <td>1.0</td>\n",
       "      <td>0.0</td>\n",
       "      <td>0.0</td>\n",
       "      <td>4.0</td>\n",
       "    </tr>\n",
       "    <tr>\n",
       "      <th>85771</th>\n",
       "      <td>0.608247</td>\n",
       "      <td>0.333333</td>\n",
       "      <td>0.222222</td>\n",
       "      <td>0.434343</td>\n",
       "      <td>0.575758</td>\n",
       "      <td>0.666667</td>\n",
       "      <td>0.525253</td>\n",
       "      <td>0.000000</td>\n",
       "      <td>0.484848</td>\n",
       "      <td>0.949495</td>\n",
       "      <td>...</td>\n",
       "      <td>1.0</td>\n",
       "      <td>0.0</td>\n",
       "      <td>1.0</td>\n",
       "      <td>0.0</td>\n",
       "      <td>0.0</td>\n",
       "      <td>0.0</td>\n",
       "      <td>0.0</td>\n",
       "      <td>1.0</td>\n",
       "      <td>0.0</td>\n",
       "      <td>25.0</td>\n",
       "    </tr>\n",
       "    <tr>\n",
       "      <th>77682</th>\n",
       "      <td>0.402062</td>\n",
       "      <td>0.666667</td>\n",
       "      <td>1.000000</td>\n",
       "      <td>0.353535</td>\n",
       "      <td>0.141414</td>\n",
       "      <td>1.000000</td>\n",
       "      <td>0.000000</td>\n",
       "      <td>0.737374</td>\n",
       "      <td>0.272727</td>\n",
       "      <td>0.858586</td>\n",
       "      <td>...</td>\n",
       "      <td>1.0</td>\n",
       "      <td>0.0</td>\n",
       "      <td>1.0</td>\n",
       "      <td>0.0</td>\n",
       "      <td>0.0</td>\n",
       "      <td>0.0</td>\n",
       "      <td>1.0</td>\n",
       "      <td>0.0</td>\n",
       "      <td>0.0</td>\n",
       "      <td>20.0</td>\n",
       "    </tr>\n",
       "    <tr>\n",
       "      <th>108573</th>\n",
       "      <td>0.639175</td>\n",
       "      <td>1.000000</td>\n",
       "      <td>1.000000</td>\n",
       "      <td>0.373737</td>\n",
       "      <td>0.424242</td>\n",
       "      <td>1.000000</td>\n",
       "      <td>0.383838</td>\n",
       "      <td>0.000000</td>\n",
       "      <td>0.626263</td>\n",
       "      <td>0.959596</td>\n",
       "      <td>...</td>\n",
       "      <td>1.0</td>\n",
       "      <td>0.0</td>\n",
       "      <td>1.0</td>\n",
       "      <td>0.0</td>\n",
       "      <td>0.0</td>\n",
       "      <td>0.0</td>\n",
       "      <td>0.0</td>\n",
       "      <td>1.0</td>\n",
       "      <td>0.0</td>\n",
       "      <td>30.0</td>\n",
       "    </tr>\n",
       "    <tr>\n",
       "      <th>...</th>\n",
       "      <td>...</td>\n",
       "      <td>...</td>\n",
       "      <td>...</td>\n",
       "      <td>...</td>\n",
       "      <td>...</td>\n",
       "      <td>...</td>\n",
       "      <td>...</td>\n",
       "      <td>...</td>\n",
       "      <td>...</td>\n",
       "      <td>...</td>\n",
       "      <td>...</td>\n",
       "      <td>...</td>\n",
       "      <td>...</td>\n",
       "      <td>...</td>\n",
       "      <td>...</td>\n",
       "      <td>...</td>\n",
       "      <td>...</td>\n",
       "      <td>...</td>\n",
       "      <td>...</td>\n",
       "      <td>...</td>\n",
       "      <td>...</td>\n",
       "    </tr>\n",
       "    <tr>\n",
       "      <th>28190</th>\n",
       "      <td>0.742268</td>\n",
       "      <td>0.666667</td>\n",
       "      <td>1.000000</td>\n",
       "      <td>0.393939</td>\n",
       "      <td>0.363636</td>\n",
       "      <td>1.000000</td>\n",
       "      <td>1.000000</td>\n",
       "      <td>0.000000</td>\n",
       "      <td>0.000000</td>\n",
       "      <td>0.878788</td>\n",
       "      <td>...</td>\n",
       "      <td>0.0</td>\n",
       "      <td>0.0</td>\n",
       "      <td>1.0</td>\n",
       "      <td>0.0</td>\n",
       "      <td>0.0</td>\n",
       "      <td>0.0</td>\n",
       "      <td>0.0</td>\n",
       "      <td>0.0</td>\n",
       "      <td>0.0</td>\n",
       "      <td>10.0</td>\n",
       "    </tr>\n",
       "    <tr>\n",
       "      <th>100498</th>\n",
       "      <td>0.624862</td>\n",
       "      <td>0.666667</td>\n",
       "      <td>1.000000</td>\n",
       "      <td>0.000000</td>\n",
       "      <td>0.000000</td>\n",
       "      <td>1.000000</td>\n",
       "      <td>1.000000</td>\n",
       "      <td>0.000000</td>\n",
       "      <td>0.000000</td>\n",
       "      <td>0.888889</td>\n",
       "      <td>...</td>\n",
       "      <td>1.0</td>\n",
       "      <td>0.0</td>\n",
       "      <td>1.0</td>\n",
       "      <td>0.0</td>\n",
       "      <td>0.0</td>\n",
       "      <td>0.0</td>\n",
       "      <td>1.0</td>\n",
       "      <td>0.0</td>\n",
       "      <td>0.0</td>\n",
       "      <td>10.0</td>\n",
       "    </tr>\n",
       "    <tr>\n",
       "      <th>29914</th>\n",
       "      <td>0.577320</td>\n",
       "      <td>1.000000</td>\n",
       "      <td>1.000000</td>\n",
       "      <td>0.575758</td>\n",
       "      <td>0.060606</td>\n",
       "      <td>0.888889</td>\n",
       "      <td>1.000000</td>\n",
       "      <td>0.000000</td>\n",
       "      <td>0.000000</td>\n",
       "      <td>0.949495</td>\n",
       "      <td>...</td>\n",
       "      <td>0.0</td>\n",
       "      <td>1.0</td>\n",
       "      <td>0.0</td>\n",
       "      <td>0.0</td>\n",
       "      <td>0.0</td>\n",
       "      <td>0.0</td>\n",
       "      <td>0.0</td>\n",
       "      <td>1.0</td>\n",
       "      <td>0.0</td>\n",
       "      <td>25.0</td>\n",
       "    </tr>\n",
       "    <tr>\n",
       "      <th>161935</th>\n",
       "      <td>0.624862</td>\n",
       "      <td>0.333333</td>\n",
       "      <td>0.666667</td>\n",
       "      <td>0.414141</td>\n",
       "      <td>0.373737</td>\n",
       "      <td>0.666667</td>\n",
       "      <td>0.000000</td>\n",
       "      <td>0.000000</td>\n",
       "      <td>1.000000</td>\n",
       "      <td>0.989899</td>\n",
       "      <td>...</td>\n",
       "      <td>1.0</td>\n",
       "      <td>0.0</td>\n",
       "      <td>0.0</td>\n",
       "      <td>1.0</td>\n",
       "      <td>0.0</td>\n",
       "      <td>1.0</td>\n",
       "      <td>0.0</td>\n",
       "      <td>0.0</td>\n",
       "      <td>0.0</td>\n",
       "      <td>10.0</td>\n",
       "    </tr>\n",
       "    <tr>\n",
       "      <th>32868</th>\n",
       "      <td>0.505155</td>\n",
       "      <td>0.666667</td>\n",
       "      <td>1.000000</td>\n",
       "      <td>0.444444</td>\n",
       "      <td>0.353535</td>\n",
       "      <td>0.777778</td>\n",
       "      <td>0.000000</td>\n",
       "      <td>0.000000</td>\n",
       "      <td>1.000000</td>\n",
       "      <td>0.909091</td>\n",
       "      <td>...</td>\n",
       "      <td>1.0</td>\n",
       "      <td>0.0</td>\n",
       "      <td>1.0</td>\n",
       "      <td>0.0</td>\n",
       "      <td>0.0</td>\n",
       "      <td>1.0</td>\n",
       "      <td>0.0</td>\n",
       "      <td>0.0</td>\n",
       "      <td>0.0</td>\n",
       "      <td>7.5</td>\n",
       "    </tr>\n",
       "  </tbody>\n",
       "</table>\n",
       "<p>18057 rows × 115 columns</p>\n",
       "</div>"
      ],
      "text/plain": [
       "               0         1         2         3         4         5         6  \\\n",
       "63554   0.463918  0.500000  0.666667  0.121212  0.454545  1.000000  0.000000   \n",
       "93091   0.628866  0.500000  0.888889  0.313131  0.000000  0.666667  1.000000   \n",
       "85771   0.608247  0.333333  0.222222  0.434343  0.575758  0.666667  0.525253   \n",
       "77682   0.402062  0.666667  1.000000  0.353535  0.141414  1.000000  0.000000   \n",
       "108573  0.639175  1.000000  1.000000  0.373737  0.424242  1.000000  0.383838   \n",
       "...          ...       ...       ...       ...       ...       ...       ...   \n",
       "28190   0.742268  0.666667  1.000000  0.393939  0.363636  1.000000  1.000000   \n",
       "100498  0.624862  0.666667  1.000000  0.000000  0.000000  1.000000  1.000000   \n",
       "29914   0.577320  1.000000  1.000000  0.575758  0.060606  0.888889  1.000000   \n",
       "161935  0.624862  0.333333  0.666667  0.414141  0.373737  0.666667  0.000000   \n",
       "32868   0.505155  0.666667  1.000000  0.444444  0.353535  0.777778  0.000000   \n",
       "\n",
       "               7         8         9  ...   15   16   17   18   19   20   21  \\\n",
       "63554   0.000000  1.000000  0.898990  ...  1.0  0.0  0.0  1.0  0.0  0.0  0.0   \n",
       "93091   0.000000  0.000000  0.858586  ...  0.0  0.0  1.0  0.0  0.0  0.0  1.0   \n",
       "85771   0.000000  0.484848  0.949495  ...  1.0  0.0  1.0  0.0  0.0  0.0  0.0   \n",
       "77682   0.737374  0.272727  0.858586  ...  1.0  0.0  1.0  0.0  0.0  0.0  1.0   \n",
       "108573  0.000000  0.626263  0.959596  ...  1.0  0.0  1.0  0.0  0.0  0.0  0.0   \n",
       "...          ...       ...       ...  ...  ...  ...  ...  ...  ...  ...  ...   \n",
       "28190   0.000000  0.000000  0.878788  ...  0.0  0.0  1.0  0.0  0.0  0.0  0.0   \n",
       "100498  0.000000  0.000000  0.888889  ...  1.0  0.0  1.0  0.0  0.0  0.0  1.0   \n",
       "29914   0.000000  0.000000  0.949495  ...  0.0  1.0  0.0  0.0  0.0  0.0  0.0   \n",
       "161935  0.000000  1.000000  0.989899  ...  1.0  0.0  0.0  1.0  0.0  1.0  0.0   \n",
       "32868   0.000000  1.000000  0.909091  ...  1.0  0.0  1.0  0.0  0.0  1.0  0.0   \n",
       "\n",
       "         22   23  TARGET_D  \n",
       "63554   1.0  0.0      25.0  \n",
       "93091   0.0  0.0       4.0  \n",
       "85771   1.0  0.0      25.0  \n",
       "77682   0.0  0.0      20.0  \n",
       "108573  1.0  0.0      30.0  \n",
       "...     ...  ...       ...  \n",
       "28190   0.0  0.0      10.0  \n",
       "100498  0.0  0.0      10.0  \n",
       "29914   1.0  0.0      25.0  \n",
       "161935  0.0  0.0      10.0  \n",
       "32868   0.0  0.0       7.5  \n",
       "\n",
       "[18057 rows x 115 columns]"
      ]
     },
     "execution_count": 42,
     "metadata": {},
     "output_type": "execute_result"
    }
   ],
   "source": [
    "newX = X_impr.iloc[list_1]\n",
    "newX"
   ]
  },
  {
   "cell_type": "code",
   "execution_count": 49,
   "id": "ac99dbc7-1992-4c6b-a475-7fd72e3d5d47",
   "metadata": {},
   "outputs": [],
   "source": [
    "newy = newX['TARGET_D']\n",
    "newX = newX.drop(['TARGET_D'], axis= 1)"
   ]
  },
  {
   "cell_type": "code",
   "execution_count": 50,
   "id": "ce112797-55d4-4fb9-aadb-9d36dfaf9c36",
   "metadata": {},
   "outputs": [],
   "source": [
    "X_train_new, X_test_new, y_train_new, y_test_new = train_test_split(newX, newy, test_size=0.2, random_state=0)"
   ]
  },
  {
   "cell_type": "code",
   "execution_count": 53,
   "id": "8d277d31-d94d-4ca7-b04d-8485fced4486",
   "metadata": {},
   "outputs": [
    {
     "name": "stdout",
     "output_type": "stream",
     "text": [
      "0.5503409581933042\n",
      "0.5165226197360053\n"
     ]
    }
   ],
   "source": [
    "from sklearn.ensemble import RandomForestRegressor\n",
    "clf_new = RandomForestRegressor(max_depth=5,\n",
    "                             min_samples_split=20,\n",
    "                             min_samples_leaf =20)\n",
    "clf_new.fit(X_train_new, y_train_new)\n",
    "print(clf_new.score(X_train_new, y_train_new))\n",
    "print(clf_new.score(X_test_new, y_test_new))"
   ]
  },
  {
   "cell_type": "code",
   "execution_count": 54,
   "id": "b979edbc-8ccc-4ba7-99e8-27dc9a358fba",
   "metadata": {},
   "outputs": [
    {
     "data": {
      "text/plain": [
       "7494      30.0\n",
       "138221    25.0\n",
       "174132    15.0\n",
       "167552    50.0\n",
       "173463    15.0\n",
       "          ... \n",
       "24612     25.0\n",
       "102049    10.0\n",
       "40344     20.0\n",
       "146439    50.0\n",
       "156447     5.0\n",
       "Name: TARGET_D, Length: 3612, dtype: float64"
      ]
     },
     "execution_count": 54,
     "metadata": {},
     "output_type": "execute_result"
    }
   ],
   "source": [
    "y_test_new"
   ]
  },
  {
   "cell_type": "code",
   "execution_count": 55,
   "id": "fbcb8c15-ad90-4ecc-8724-45525372eb5e",
   "metadata": {},
   "outputs": [
    {
     "data": {
      "text/plain": [
       "115720    14.0\n",
       "169947    20.0\n",
       "39781     21.0\n",
       "136993     3.0\n",
       "37187     23.0\n",
       "          ... \n",
       "88940     10.0\n",
       "120068    27.0\n",
       "116312    10.0\n",
       "160462    15.0\n",
       "174043    15.0\n",
       "Name: TARGET_D, Length: 14445, dtype: float64"
      ]
     },
     "execution_count": 55,
     "metadata": {},
     "output_type": "execute_result"
    }
   ],
   "source": [
    "y_train_new"
   ]
  },
  {
   "cell_type": "code",
   "execution_count": null,
   "id": "d97192de-9ad5-4ed1-9fe5-51c1adfc5c5c",
   "metadata": {},
   "outputs": [],
   "source": []
  }
 ],
 "metadata": {
  "kernelspec": {
   "display_name": "Python 3",
   "language": "python",
   "name": "python3"
  },
  "language_info": {
   "codemirror_mode": {
    "name": "ipython",
    "version": 3
   },
   "file_extension": ".py",
   "mimetype": "text/x-python",
   "name": "python",
   "nbconvert_exporter": "python",
   "pygments_lexer": "ipython3",
   "version": "3.8.8"
  }
 },
 "nbformat": 4,
 "nbformat_minor": 5
}
